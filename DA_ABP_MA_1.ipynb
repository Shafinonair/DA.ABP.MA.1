{
  "nbformat": 4,
  "nbformat_minor": 0,
  "metadata": {
    "colab": {
      "provenance": []
    },
    "kernelspec": {
      "name": "python3",
      "display_name": "Python 3"
    },
    "language_info": {
      "name": "python"
    }
  },
  "cells": [
    {
      "cell_type": "markdown",
      "source": [
        "# Module: Analyzing Business Problems\n",
        "## Sprint: Marketing Analyst\n",
        "## Part 1: Introduction\n",
        "\n",
        "<br>\n",
        "\n",
        "The main objective of this sprint is for you to understand and get a feeling of what it means to work as a marketing analyst. Marketing analyst is one of the most important roles in a company for driving growth and making sure that advertising money is spent efficiently. There can be different marketing analyst types in the company, but materials covered in this course should provide you with skills necessary for all of them. Job responsibilities may vary depending on the company you are working for, but main tasks include analyzing marketing campaigns performance (display / search / real time bidding or any other), providing insights to marketing managers on ways to improve marketing spending and analysis of previously run campaigns. All in all, the main focus of this particular job is to use data in order to ensure that marketing money is spent efficiently and that the company manages to achieve their marketing targets.\n",
        "\n",
        "Marketing analysts work for both small and large companies – nowadays almost all companies have marketing departments of various sizes. Quite often in smaller startups the work of a marketing analyst may be covered partly or fully by the company's data analyst – thus if you want to pursue a data analyst career, the ability to analyze marketing data is a very useful skill.\n",
        "\n",
        "Usually, in smaller companies marketing analysis consists of the following tasks:\n",
        "- Analyzing marketing campaigns from performance perspective, calculating various KPIs such as conversion rates, Return On Investment (ROI), comparing different marketing campaigns, looking for data discrepancies and comparing different reporting tools. All of these focus on making sure that marketing money is spent efficiently.\n",
        "- Making sure that marketing attribution is working correctly and sometimes even providing custom attribution models based on different marketing interactions before customer’s purchase (conversion)\n",
        "\n",
        "\n",
        "In the bigger companies marketing analyst may cover more advanced marketing modeling:\n",
        "- Path to conversion modeling and reporting. Assigning different weights for each marketing interaction (impression, click, visit) in the whole path up until conversion.\n",
        "- Developing LifeTime Value (LTV) models for companies. These are usually based on retention statistics aggregated through all customers and calculating average monetary value of revenue each customer brings. These models are later used as a benchmark to decide how much money marketing can spend on a single customer in order to make him convert. (*Note: refer back to the CLV sprint if this is unclear*)\n",
        "- Developing predictive marketing targeting models which help spend marketing money more efficiently by targeting only customers who have a high probability to convert. (*Note: this is a more advanced topic that is covered in Data Science courses*)\n",
        "- Analyzing customer retention and cohorts. Such data helps better understand customers and provides a broader view of not only marketing activities but also other related things such as product development, sales activities and more.\n",
        "\n",
        "In regards to data, marketing analysts usually work with marketing data coming from website tracking and marketing tools. In most cases this will be either Google Analytics / Google Ads / Google Search / Adobe Analytics. Quite often smaller companies will be saving money by using a free version of Google Analytics thus it may mean that marketing analysts may need to become quite creative in ways to get the data they need. This often means that in order to have more accurate data or more advanced models marketing analysts may need to pull data from Google Reporting API themselves or ask for help from company’s developers to do that. Most often, data will be related to marketing activities, but aggregation levels may vary, depending on implementation. If you are lucky enough, you may be working with user level data (user events and sessions) and will be able to perform more advanced analytics. However, quite often this data may be limited to dimensions provided by tools used, such as marketing Campaign / Source / Medium / Channel / Keywords / Ad Group etc.\n",
        "\n",
        "Quite often, this data will be coming from various sources so data wrangling is a super important skill to have. You will need to be able to join different data sources and enrich your data using them. Moreover, current trends in data analysis is that most data contains nested structure (single column containing multiple data points) which may need parsing (reading each value separately), thus skills for understanding JSON structure and ability to extract needed information is becoming more important.\n",
        "\n",
        "You will start this sprint by reading a chapter from an amazing book by Jerry Rackley which will give you a better understanding why marketing analytics is so important.  Then you will focus more on different marketing analysis types covered by Chuck Hemann and Ken Burbary in their book called “Digital Marketing Analytics: Making Sense of Consumer Data in a Digital World”. The final materials will provide you a bit more details on basic marketing metrics, marketing attribution and path to conversion analysis using Google Analytics.\n",
        "\n",
        "## Sprint objectives\n",
        "- Learn key concepts and definitions required for the marketing analyst role\n",
        "- Get to know and practice the main analysis types used by marketing analysts\n",
        "- Get to know and practice working with the main data types that marketing analysts work with\n",
        "- Gain understanding of how marketing analyst’s day of work might look like\n",
        "\n",
        "## Key resources\n",
        "- [Marketing Analytics Roadmap: Methods, Metrics, and Tools](https://learning.oreilly.com/library/view/marketing-analytics-roadmap/9781484202593/)\n",
        "  - Chapter 1: Marketing Analytics\n",
        "- [Digital Marketing Analytics: Making Sense of Consumer Data in a Digital World, Second edition](https://learning.oreilly.com/library/view/digital-marketing-analytics/9780134997797/)\n",
        "  - Chapter 2: Understanding Digital Analytics Concepts\n",
        "  - Chapter 4: Digital Analysis: Brand\n",
        "  - Chapter 5: Digital Analysis: Audience\n",
        "  - Chapter 6: Digital Analysis: Ecosystem\n",
        "  - Chapter 7: Return on Investment\n",
        "\n",
        "- [A complete guide to marketing metrics](https://www.wrike.com/blog/the-key-marketing-metrics-your-cmo-actually-cares-about/#What-are-marketing-metrics)\n",
        "- [15 Marketing metrics to maintain & measure small business growth](https://www.tide.co/blog/business-tips/marketing-metrics/)\n",
        "\n",
        "## Optional resources\n",
        "- [Marketing attribution](https://www.marketingevolution.com/marketing-essentials/marketing-attribution)\n",
        "- [How to use Funnel Exploration Report in Google Analytics 4 (GA4)](https://www.analyticsmania.com/post/funnel-analysis-report-in-google-analytics-4/)\n",
        "\n",
        "\n"
      ],
      "metadata": {
        "id": "el2qzAObEdjm"
      }
    }
  ]
}